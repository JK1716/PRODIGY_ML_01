{
 "cells": [
  {
   "cell_type": "markdown",
   "id": "22487465-76fe-42db-9bba-49a487898cb3",
   "metadata": {},
   "source": [
    "Name: Kalkidan Tsegaye Gebresilassie\n",
    "M machine learni\n",
    "Task 1ng\r\n",
    "\r\n",
    "Implement a linear regression model to predict the prices of houses based on their square footage and the number of bedrooms and bathrooms"
   ]
  }
 ],
 "metadata": {
  "kernelspec": {
   "display_name": "Python 3 (ipykernel)",
   "language": "python",
   "name": "python3"
  },
  "language_info": {
   "codemirror_mode": {
    "name": "ipython",
    "version": 3
   },
   "file_extension": ".py",
   "mimetype": "text/x-python",
   "name": "python",
   "nbconvert_exporter": "python",
   "pygments_lexer": "ipython3",
   "version": "3.12.0"
  }
 },
 "nbformat": 4,
 "nbformat_minor": 5
}
